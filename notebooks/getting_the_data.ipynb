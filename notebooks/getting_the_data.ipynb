{
 "cells": [
  {
   "cell_type": "markdown",
   "metadata": {},
   "source": [
    "# Exploring Twitter Data from Congress Member"
   ]
  },
  {
   "cell_type": "code",
   "execution_count": 1,
   "metadata": {},
   "outputs": [],
   "source": [
    "%matplotlib inline\n",
    "import matplotlib.pyplot as plt\n",
    "import pandas as pd\n",
    "import requests\n",
    "from bs4 import BeautifulSoup\n",
    "import re\n",
    "import dill\n",
    "from datetime import datetime, timedelta\n",
    "from pandas.io.json import json_normalize\n",
    "# from fuzzywuzzy import fuzz\n",
    "# from fuzzywuzzy import process"
   ]
  },
  {
   "cell_type": "code",
   "execution_count": 2,
   "metadata": {},
   "outputs": [],
   "source": [
    "plt.style.use('seaborn')"
   ]
  },
  {
   "cell_type": "markdown",
   "metadata": {},
   "source": [
    "# Getting twitter data"
   ]
  },
  {
   "cell_type": "code",
   "execution_count": 3,
   "metadata": {},
   "outputs": [],
   "source": [
    "# get dates from website\n",
    "base_url = 'https://alexlitel.github.io'\n",
    "url = 'https://alexlitel.github.io/congresstweets/'\n",
    "r = requests.get(url)\n",
    "\n",
    "soup = BeautifulSoup(r.text, 'html5lib')\n",
    "links = []\n",
    "for link in soup.select('div.post.py2 a[href]'):\n",
    "    links.append(link.get('href'))"
   ]
  },
  {
   "cell_type": "code",
   "execution_count": 4,
   "metadata": {},
   "outputs": [],
   "source": [
    "# old code\n",
    "\n",
    "# df = pd.DataFrame()\n",
    "\n",
    "# for link in links:\n",
    "#     file = requests.get(base_url+link).json()\n",
    "#     df = df.append(pd.DataFrame(file)) "
   ]
  },
  {
   "cell_type": "code",
   "execution_count": 5,
   "metadata": {},
   "outputs": [],
   "source": [
    "from requests_futures.sessions import FuturesSession\n",
    "\n",
    "session = FuturesSession(max_workers=5)\n",
    "futures = [session.get(base_url+link) for link in links]"
   ]
  },
  {
   "cell_type": "code",
   "execution_count": 6,
   "metadata": {},
   "outputs": [
    {
     "data": {
      "text/plain": [
       "(165848, 7)"
      ]
     },
     "execution_count": 6,
     "metadata": {},
     "output_type": "execute_result"
    }
   ],
   "source": [
    "# get data\n",
    "df = pd.DataFrame()\n",
    "for file in futures: \n",
    "   df = df.append(pd.DataFrame(file.result().json()))    \n",
    "\n",
    "df.shape"
   ]
  },
  {
   "cell_type": "code",
   "execution_count": 7,
   "metadata": {},
   "outputs": [],
   "source": [
    "df['date'] = pd.to_datetime(df.time)\n",
    "df.set_index('date', inplace=True)\n",
    "#df.head()"
   ]
  },
  {
   "cell_type": "code",
   "execution_count": 8,
   "metadata": {},
   "outputs": [],
   "source": [
    "# number of tweets per day\n",
    "# df.text.resample('D').count().plot();\n",
    "# plt.savefig('tweets_day.png')"
   ]
  },
  {
   "cell_type": "code",
   "execution_count": 9,
   "metadata": {},
   "outputs": [],
   "source": [
    "#dill.dump(df, open('tweets.pkd', 'wb'))"
   ]
  },
  {
   "cell_type": "code",
   "execution_count": 10,
   "metadata": {},
   "outputs": [],
   "source": [
    "#df = dill.load(open('tweets.pkd', 'rb'))"
   ]
  },
  {
   "cell_type": "code",
   "execution_count": 11,
   "metadata": {},
   "outputs": [],
   "source": [
    "# old code\n",
    "# dates = [ start_date + timedelta(n) for n in range(int ((end_date - start_date).days))]\n",
    "# dates = pd.to_datetime(dates)\n",
    "# dates = dates.strftime('%Y-%m-%d')\n",
    "\n",
    "# # get data\n",
    "# urls = [('https://alexlitel.github.io/congresstweets/data/' + i + '.json') for i in dates]\n",
    "# df = pd.DataFrame()\n",
    "# for i in urls:\n",
    "#     r = requests.get(i).json()\n",
    "#     df = df.append(pd.DataFrame(r))"
   ]
  },
  {
   "cell_type": "markdown",
   "metadata": {},
   "source": [
    "# Reading Metadata and Match Screen Names"
   ]
  },
  {
   "cell_type": "code",
   "execution_count": 12,
   "metadata": {},
   "outputs": [],
   "source": [
    "# read metadata\n",
    "url = \"https://raw.githubusercontent.com/alexlitel/congresstweets-automator/master/data/users-filtered.json\"\n",
    "r = requests.get(url).json()\n",
    "m = json_normalize(r)\n",
    "m = m.loc[m.type=='member'] # only members"
   ]
  },
  {
   "cell_type": "code",
   "execution_count": 13,
   "metadata": {},
   "outputs": [
    {
     "data": {
      "text/html": [
       "<div>\n",
       "<style>\n",
       "    .dataframe thead tr:only-child th {\n",
       "        text-align: right;\n",
       "    }\n",
       "\n",
       "    .dataframe thead th {\n",
       "        text-align: left;\n",
       "    }\n",
       "\n",
       "    .dataframe tbody tr th {\n",
       "        vertical-align: top;\n",
       "    }\n",
       "</style>\n",
       "<table border=\"1\" class=\"dataframe\">\n",
       "  <thead>\n",
       "    <tr style=\"text-align: right;\">\n",
       "      <th></th>\n",
       "      <th>user_id</th>\n",
       "      <th>govtrack</th>\n",
       "      <th>name</th>\n",
       "      <th>chamber</th>\n",
       "      <th>party</th>\n",
       "      <th>state</th>\n",
       "    </tr>\n",
       "  </thead>\n",
       "  <tbody>\n",
       "    <tr>\n",
       "      <th>33</th>\n",
       "      <td>37007274</td>\n",
       "      <td>400440</td>\n",
       "      <td>Don Young</td>\n",
       "      <td>house</td>\n",
       "      <td>R</td>\n",
       "      <td>AK</td>\n",
       "    </tr>\n",
       "    <tr>\n",
       "      <th>34</th>\n",
       "      <td>2253968388</td>\n",
       "      <td>412601</td>\n",
       "      <td>Bradley Byrne</td>\n",
       "      <td>house</td>\n",
       "      <td>R</td>\n",
       "      <td>AL</td>\n",
       "    </tr>\n",
       "    <tr>\n",
       "      <th>35</th>\n",
       "      <td>2861616083</td>\n",
       "      <td>412608</td>\n",
       "      <td>Gary Palmer</td>\n",
       "      <td>house</td>\n",
       "      <td>R</td>\n",
       "      <td>AL</td>\n",
       "    </tr>\n",
       "    <tr>\n",
       "      <th>36</th>\n",
       "      <td>224294785</td>\n",
       "      <td>412394</td>\n",
       "      <td>Martha Roby</td>\n",
       "      <td>house</td>\n",
       "      <td>R</td>\n",
       "      <td>AL</td>\n",
       "    </tr>\n",
       "    <tr>\n",
       "      <th>37</th>\n",
       "      <td>33977070</td>\n",
       "      <td>400341</td>\n",
       "      <td>Mike Rogers</td>\n",
       "      <td>house</td>\n",
       "      <td>R</td>\n",
       "      <td>AL</td>\n",
       "    </tr>\n",
       "  </tbody>\n",
       "</table>\n",
       "</div>"
      ],
      "text/plain": [
       "       user_id  govtrack           name chamber party state\n",
       "33    37007274    400440      Don Young   house     R    AK\n",
       "34  2253968388    412601  Bradley Byrne   house     R    AL\n",
       "35  2861616083    412608    Gary Palmer   house     R    AL\n",
       "36   224294785    412394    Martha Roby   house     R    AL\n",
       "37    33977070    400341    Mike Rogers   house     R    AL"
      ]
     },
     "execution_count": 13,
     "metadata": {},
     "output_type": "execute_result"
    }
   ],
   "source": [
    "m.accounts.isnull().value_counts() # no missing records\n",
    "m['user_id'] =  m.accounts.map(lambda x:  x[0]['id'])\n",
    "m['govtrack'] = m.id.map(lambda x:  x['govtrack'])\n",
    "m = m.loc[:,['user_id', 'govtrack', 'name', 'chamber', 'party', 'state']]\n",
    "m.head()"
   ]
  },
  {
   "cell_type": "code",
   "execution_count": 14,
   "metadata": {},
   "outputs": [
    {
     "data": {
      "text/plain": [
       "3"
      ]
     },
     "execution_count": 14,
     "metadata": {},
     "output_type": "execute_result"
    }
   ],
   "source": [
    "# old code\n",
    "# meta = pd.melt(m, id_vars=['chamber', 'id.govtrack', 'name', 'party', 'state'], \n",
    "#                value_vars=['name1', 'name2'])\n",
    "\n",
    "\n",
    "# meta.rename(columns={'value':'mnames'}, inplace=True)\n",
    "# meta = meta[meta.mnames.notnull()]\n",
    "# meta.head()\n",
    "\n",
    "# explore some screen names\n",
    "#meta.loc[meta.mnames == 'auctnr1',:]\n",
    "# meta.loc[meta.name.str.contains('Bill'),:]\n",
    "\n",
    "#choices = meta.loc[:,'mnames'].tolist()\n",
    "\n",
    "#queries = df.loc[:,'screen_name'].tolist()\n",
    "#queries = list(set(queries)) # remove duplicates\n",
    "\n",
    "#[re.search(r'auctnr1', q) for q in choices]\n",
    "#len(queries)\n",
    "\n",
    "#t = map(lambda q : process.extractOne(q, choices, score_cutoff=80), queries)\n",
    "#t = list(t)\n",
    "\n",
    "## extract names\n",
    "#names = [x[0] if x is not None else None for x in t]\n",
    "#score = [x[1] if x is not None else None for x in t]\n",
    "3# create dataframe\n",
    "#name_match = pd.DataFrame({'screen_name': queries,'mnames': names, 'score_match' : score})\n",
    "#name_match.head()\n",
    "\n",
    "#name_match = name_match[name_match.score_match.notnull()]\n",
    "#name_match.shape\n",
    "\n",
    "#name_match[name_match.score_match < 100]"
   ]
  },
  {
   "cell_type": "code",
   "execution_count": 15,
   "metadata": {},
   "outputs": [],
   "source": [
    "# merge\n",
    "dat = pd.merge(df, m, on='user_id', how='left')\n",
    "\n",
    "null_match = dat.name.isnull()\n",
    "null_match.value_counts()\n",
    "\n",
    "match_names = dat.loc[-null_match,'name'].unique() # 515, okey, not that bad\n",
    "\n",
    "nonmatch_names = dat.loc[null_match,'screen_name'].unique()"
   ]
  },
  {
   "cell_type": "code",
   "execution_count": 16,
   "metadata": {},
   "outputs": [
    {
     "data": {
      "text/plain": [
       "515"
      ]
     },
     "execution_count": 16,
     "metadata": {},
     "output_type": "execute_result"
    }
   ],
   "source": [
    "len(match_names)"
   ]
  },
  {
   "cell_type": "code",
   "execution_count": 17,
   "metadata": {},
   "outputs": [
    {
     "data": {
      "text/plain": [
       "[['Rand'], ['Rand'], ['Rand']]"
      ]
     },
     "execution_count": 17,
     "metadata": {},
     "output_type": "execute_result"
    }
   ],
   "source": [
    "# examine\n",
    "\n",
    "list(filter(None,[re.findall(r'Rand', name) for name in  match_names]))"
   ]
  },
  {
   "cell_type": "code",
   "execution_count": 18,
   "metadata": {},
   "outputs": [
    {
     "data": {
      "text/plain": [
       "(117659, 12)"
      ]
     },
     "execution_count": 18,
     "metadata": {},
     "output_type": "execute_result"
    }
   ],
   "source": [
    "dat = dat.loc[-null_match,:]\n",
    "dat.shape"
   ]
  },
  {
   "cell_type": "markdown",
   "metadata": {},
   "source": [
    "# Some plots"
   ]
  },
  {
   "cell_type": "code",
   "execution_count": 19,
   "metadata": {},
   "outputs": [],
   "source": [
    "# plotting\n",
    "dat['date'] = pd.to_datetime(dat.time)\n",
    "dat.set_index('date', inplace=True)"
   ]
  },
  {
   "cell_type": "code",
   "execution_count": 20,
   "metadata": {},
   "outputs": [],
   "source": [
    "# old code\n",
    "# dat.loc[:, ['name', 'party', 'mnames', 'score_match']].head()\n",
    "#dat.loc[dat.name.str.contains('Long'), 'mnames'].value_counts() # most of cases come from auctnrl"
   ]
  },
  {
   "cell_type": "code",
   "execution_count": 21,
   "metadata": {},
   "outputs": [
    {
     "data": {
      "text/plain": [
       "name\n",
       "Don Beyer              2324\n",
       "Ileana Ros-Lehtinen    1346\n",
       "Keith Ellison          1080\n",
       "Lacy Clay              1260\n",
       "Pramila Jayapal        1842\n",
       "Name: id, dtype: int64"
      ]
     },
     "execution_count": 21,
     "metadata": {},
     "output_type": "execute_result"
    }
   ],
   "source": [
    "nt = dat.groupby('name').count().id\n",
    "nt[nt > 1000]"
   ]
  },
  {
   "cell_type": "code",
   "execution_count": 22,
   "metadata": {},
   "outputs": [
    {
     "data": {
      "image/png": "[encoded data removed]",
      "text/plain": [
       "<matplotlib.figure.Figure at 0x114b650f0>"
      ]
     },
     "metadata": {},
     "output_type": "display_data"
    }
   ],
   "source": [
    "dat.text.resample('D').count().plot();"
   ]
  },
  {
   "cell_type": "code",
   "execution_count": 23,
   "metadata": {},
   "outputs": [
    {
     "data": {
      "image/png": "[encoded data removed]",
      "text/plain": [
       "<matplotlib.figure.Figure at 0x114b65b38>"
      ]
     },
     "metadata": {},
     "output_type": "display_data"
    }
   ],
   "source": [
    "# plot distribution number of tweets per member\n",
    "nt.hist(bins=100);"
   ]
  },
  {
   "cell_type": "code",
   "execution_count": 24,
   "metadata": {},
   "outputs": [
    {
     "data": {
      "text/plain": [
       "D    70135\n",
       "R    46910\n",
       "I      614\n",
       "Name: party, dtype: int64"
      ]
     },
     "execution_count": 24,
     "metadata": {},
     "output_type": "execute_result"
    }
   ],
   "source": [
    "# descriptives members' tweets\n",
    "dat.party.value_counts()"
   ]
  },
  {
   "cell_type": "code",
   "execution_count": 25,
   "metadata": {},
   "outputs": [
    {
     "data": {
      "text/plain": [
       "house     85961\n",
       "senate    31698\n",
       "Name: chamber, dtype: int64"
      ]
     },
     "execution_count": 25,
     "metadata": {},
     "output_type": "execute_result"
    }
   ],
   "source": [
    "dat.chamber.value_counts()"
   ]
  },
  {
   "cell_type": "code",
   "execution_count": 26,
   "metadata": {},
   "outputs": [],
   "source": [
    "# save object\n",
    "dill.dump(dat, open('tweets.pkd', 'wb'))"
   ]
  }
 ],
 "metadata": {
  "kernelspec": {
   "display_name": "Python [conda root]",
   "language": "python",
   "name": "conda-root-py"
  },
  "language_info": {
   "codemirror_mode": {
    "name": "ipython",
    "version": 3
   },
   "file_extension": ".py",
   "mimetype": "text/x-python",
   "name": "python",
   "nbconvert_exporter": "python",
   "pygments_lexer": "ipython3",
   "version": "3.6.1"
  }
 },
 "nbformat": 4,
 "nbformat_minor": 2
}
