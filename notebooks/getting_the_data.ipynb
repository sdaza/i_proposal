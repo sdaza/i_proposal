{
 "cells": [
  {
   "cell_type": "markdown",
   "metadata": {},
   "source": [
    "# Exploring Twitter Data from Congress Member"
   ]
  },
  {
   "cell_type": "code",
   "execution_count": 297,
   "metadata": {},
   "outputs": [],
   "source": [
    "%matplotlib inline\n",
    "import matplotlib.pyplot as plt\n",
    "import pandas as pd\n",
    "import requests\n",
    "import re\n",
    "from datetime import datetime, timedelta\n",
    "from pandas.io.json import json_normalize\n",
    "from fuzzywuzzy import fuzz\n",
    "from fuzzywuzzy import process"
   ]
  },
  {
   "cell_type": "code",
   "execution_count": 298,
   "metadata": {},
   "outputs": [],
   "source": [
    "plt.style.use('seaborn')"
   ]
  },
  {
   "cell_type": "code",
   "execution_count": 299,
   "metadata": {},
   "outputs": [],
   "source": [
    "# define dates to get twitter data\n",
    "start_date = datetime(2017,6,21)\n",
    "end_date = datetime.today() - timedelta(days=1)"
   ]
  },
  {
   "cell_type": "code",
   "execution_count": 300,
   "metadata": {},
   "outputs": [],
   "source": [
    "dates = [ start_date + timedelta(n) for n in range(int ((end_date - start_date).days))]\n",
    "\n",
    "dates = pd.to_datetime(dates)\n",
    "dates = dates.strftime('%Y-%m-%d')"
   ]
  },
  {
   "cell_type": "code",
   "execution_count": 301,
   "metadata": {},
   "outputs": [],
   "source": [
    "# loop to collect data\n",
    "df = pd.DataFrame()\n",
    "for i in dates:\n",
    "    url = 'https://alexlitel.github.io/congresstweets/data/' + i + '.json'\n",
    "    r = requests.get(url).json()\n",
    "    df = df.append(pd.DataFrame(r))   "
   ]
  },
  {
   "cell_type": "code",
   "execution_count": 302,
   "metadata": {},
   "outputs": [
    {
     "data": {
      "text/html": [
       "<div>\n",
       "<style>\n",
       "    .dataframe thead tr:only-child th {\n",
       "        text-align: right;\n",
       "    }\n",
       "\n",
       "    .dataframe thead th {\n",
       "        text-align: left;\n",
       "    }\n",
       "\n",
       "    .dataframe tbody tr th {\n",
       "        vertical-align: top;\n",
       "    }\n",
       "</style>\n",
       "<table border=\"1\" class=\"dataframe\">\n",
       "  <thead>\n",
       "    <tr style=\"text-align: right;\">\n",
       "      <th></th>\n",
       "      <th>id</th>\n",
       "      <th>link</th>\n",
       "      <th>screen_name</th>\n",
       "      <th>source</th>\n",
       "      <th>text</th>\n",
       "      <th>time</th>\n",
       "    </tr>\n",
       "    <tr>\n",
       "      <th>date</th>\n",
       "      <th></th>\n",
       "      <th></th>\n",
       "      <th></th>\n",
       "      <th></th>\n",
       "      <th></th>\n",
       "      <th></th>\n",
       "    </tr>\n",
       "  </thead>\n",
       "  <tbody>\n",
       "    <tr>\n",
       "      <th>2017-06-21 04:33:01</th>\n",
       "      <td>877383834240667648</td>\n",
       "      <td>https://www.twitter.com/KamalaHarris/statuses/...</td>\n",
       "      <td>KamalaHarris</td>\n",
       "      <td>Sprout Social</td>\n",
       "      <td>No public hearings. \\nNo debate. \\nNo text.\\nN...</td>\n",
       "      <td>2017-06-21T00:33:01-04:00</td>\n",
       "    </tr>\n",
       "    <tr>\n",
       "      <th>2017-06-21 04:02:47</th>\n",
       "      <td>877376225664090112</td>\n",
       "      <td>https://www.twitter.com/tedlieu/statuses/87737...</td>\n",
       "      <td>tedlieu</td>\n",
       "      <td>Twitter for Android</td>\n",
       "      <td>Why should world leaders trust or listen to US...</td>\n",
       "      <td>2017-06-21T00:02:47-04:00</td>\n",
       "    </tr>\n",
       "    <tr>\n",
       "      <th>2017-06-21 06:00:22</th>\n",
       "      <td>877405817565306880</td>\n",
       "      <td>https://www.twitter.com/JerryNadler/statuses/8...</td>\n",
       "      <td>JerryNadler</td>\n",
       "      <td>Twitter for iPhone</td>\n",
       "      <td>Congratulations to Jon @ossoff and #GADems on ...</td>\n",
       "      <td>2017-06-21T02:00:22-04:00</td>\n",
       "    </tr>\n",
       "    <tr>\n",
       "      <th>2017-06-21 05:39:55</th>\n",
       "      <td>877400668411052032</td>\n",
       "      <td>https://www.twitter.com/TulsiGabbard/statuses/...</td>\n",
       "      <td>TulsiGabbard</td>\n",
       "      <td>Twitter for iPhone</td>\n",
       "      <td>Join me in celebrating the gift of yoga on thi...</td>\n",
       "      <td>2017-06-21T01:39:55-04:00</td>\n",
       "    </tr>\n",
       "    <tr>\n",
       "      <th>2017-06-21 06:13:27</th>\n",
       "      <td>877409109846478848</td>\n",
       "      <td>https://www.twitter.com/JerryNadler/statuses/8...</td>\n",
       "      <td>JerryNadler</td>\n",
       "      <td>Twitter for iPhone</td>\n",
       "      <td>#GA06 is #GOP stronghold &amp;amp; @ossoff nearly ...</td>\n",
       "      <td>2017-06-21T02:13:27-04:00</td>\n",
       "    </tr>\n",
       "  </tbody>\n",
       "</table>\n",
       "</div>"
      ],
      "text/plain": [
       "                                     id  \\\n",
       "date                                      \n",
       "2017-06-21 04:33:01  877383834240667648   \n",
       "2017-06-21 04:02:47  877376225664090112   \n",
       "2017-06-21 06:00:22  877405817565306880   \n",
       "2017-06-21 05:39:55  877400668411052032   \n",
       "2017-06-21 06:13:27  877409109846478848   \n",
       "\n",
       "                                                                  link  \\\n",
       "date                                                                     \n",
       "2017-06-21 04:33:01  https://www.twitter.com/KamalaHarris/statuses/...   \n",
       "2017-06-21 04:02:47  https://www.twitter.com/tedlieu/statuses/87737...   \n",
       "2017-06-21 06:00:22  https://www.twitter.com/JerryNadler/statuses/8...   \n",
       "2017-06-21 05:39:55  https://www.twitter.com/TulsiGabbard/statuses/...   \n",
       "2017-06-21 06:13:27  https://www.twitter.com/JerryNadler/statuses/8...   \n",
       "\n",
       "                      screen_name               source  \\\n",
       "date                                                     \n",
       "2017-06-21 04:33:01  KamalaHarris        Sprout Social   \n",
       "2017-06-21 04:02:47       tedlieu  Twitter for Android   \n",
       "2017-06-21 06:00:22   JerryNadler   Twitter for iPhone   \n",
       "2017-06-21 05:39:55  TulsiGabbard   Twitter for iPhone   \n",
       "2017-06-21 06:13:27   JerryNadler   Twitter for iPhone   \n",
       "\n",
       "                                                                  text  \\\n",
       "date                                                                     \n",
       "2017-06-21 04:33:01  No public hearings. \\nNo debate. \\nNo text.\\nN...   \n",
       "2017-06-21 04:02:47  Why should world leaders trust or listen to US...   \n",
       "2017-06-21 06:00:22  Congratulations to Jon @ossoff and #GADems on ...   \n",
       "2017-06-21 05:39:55  Join me in celebrating the gift of yoga on thi...   \n",
       "2017-06-21 06:13:27  #GA06 is #GOP stronghold &amp; @ossoff nearly ...   \n",
       "\n",
       "                                          time  \n",
       "date                                            \n",
       "2017-06-21 04:33:01  2017-06-21T00:33:01-04:00  \n",
       "2017-06-21 04:02:47  2017-06-21T00:02:47-04:00  \n",
       "2017-06-21 06:00:22  2017-06-21T02:00:22-04:00  \n",
       "2017-06-21 05:39:55  2017-06-21T01:39:55-04:00  \n",
       "2017-06-21 06:13:27  2017-06-21T02:13:27-04:00  "
      ]
     },
     "execution_count": 302,
     "metadata": {},
     "output_type": "execute_result"
    }
   ],
   "source": [
    "df['date'] = pd.to_datetime(df.time)\n",
    "df.set_index('date', inplace=True)\n",
    "df.head()"
   ]
  },
  {
   "cell_type": "code",
   "execution_count": 303,
   "metadata": {},
   "outputs": [
    {
     "data": {
      "image/png": "[encoded data removed]",
      "text/plain": [
       "<matplotlib.figure.Figure at 0x1230890f0>"
      ]
     },
     "metadata": {},
     "output_type": "display_data"
    }
   ],
   "source": [
    "# number of tweets per day\n",
    "df.text.resample('D').count().plot();"
   ]
  },
  {
   "cell_type": "markdown",
   "metadata": {},
   "source": [
    "# Reading Metadata and Match Screen Names"
   ]
  },
  {
   "cell_type": "code",
   "execution_count": 304,
   "metadata": {},
   "outputs": [],
   "source": [
    "# read metadata\n",
    "url = \"https://raw.githubusercontent.com/alexlitel/congresstweets-automator/master/data/users-filtered.json\"\n",
    "r = requests.get(url).json()"
   ]
  },
  {
   "cell_type": "code",
   "execution_count": 305,
   "metadata": {},
   "outputs": [],
   "source": [
    "m = json_normalize(r)"
   ]
  },
  {
   "cell_type": "code",
   "execution_count": 306,
   "metadata": {},
   "outputs": [],
   "source": [
    "m = m.loc[m.type=='member']"
   ]
  },
  {
   "cell_type": "code",
   "execution_count": 307,
   "metadata": {},
   "outputs": [],
   "source": [
    "def getvalue(value):\n",
    "    if (len(value) == 0):\n",
    "        return None\n",
    "    else:\n",
    "        return value[0]['screen_name']\n",
    "\n",
    "s = m.loc[:, 'accounts.office'].notnull()\n",
    "m.loc[s, 'name1'] = m.loc[s,'accounts.office'].map(getvalue)"
   ]
  },
  {
   "cell_type": "code",
   "execution_count": 308,
   "metadata": {},
   "outputs": [],
   "source": [
    "s = m.loc[:, 'accounts.campaign'].notnull()\n",
    "m.loc[s, 'name2'] = m.loc[s,'accounts.campaign'].map(getvalue)"
   ]
  },
  {
   "cell_type": "code",
   "execution_count": 309,
   "metadata": {},
   "outputs": [
    {
     "data": {
      "text/html": [
       "<div>\n",
       "<style>\n",
       "    .dataframe thead tr:only-child th {\n",
       "        text-align: right;\n",
       "    }\n",
       "\n",
       "    .dataframe thead th {\n",
       "        text-align: left;\n",
       "    }\n",
       "\n",
       "    .dataframe tbody tr th {\n",
       "        vertical-align: top;\n",
       "    }\n",
       "</style>\n",
       "<table border=\"1\" class=\"dataframe\">\n",
       "  <thead>\n",
       "    <tr style=\"text-align: right;\">\n",
       "      <th></th>\n",
       "      <th>accounts.campaign</th>\n",
       "      <th>accounts.office</th>\n",
       "      <th>chamber</th>\n",
       "      <th>id.bioguide</th>\n",
       "      <th>id.govtrack</th>\n",
       "      <th>id.house_committee_id</th>\n",
       "      <th>id.senate_committee_id</th>\n",
       "      <th>id.tag</th>\n",
       "      <th>id.thomas_id</th>\n",
       "      <th>name</th>\n",
       "      <th>party</th>\n",
       "      <th>state</th>\n",
       "      <th>type</th>\n",
       "      <th>name1</th>\n",
       "      <th>name2</th>\n",
       "    </tr>\n",
       "  </thead>\n",
       "  <tbody>\n",
       "    <tr>\n",
       "      <th>33</th>\n",
       "      <td>[{'id_str': '2559398984', 'screen_name': 'DonY...</td>\n",
       "      <td>[{'id_str': '37007274', 'screen_name': 'repdon...</td>\n",
       "      <td>house</td>\n",
       "      <td>Y000033</td>\n",
       "      <td>400440.0</td>\n",
       "      <td>NaN</td>\n",
       "      <td>NaN</td>\n",
       "      <td>NaN</td>\n",
       "      <td>NaN</td>\n",
       "      <td>Don Young</td>\n",
       "      <td>R</td>\n",
       "      <td>AK</td>\n",
       "      <td>member</td>\n",
       "      <td>repdonyoung</td>\n",
       "      <td>DonYoungAK</td>\n",
       "    </tr>\n",
       "    <tr>\n",
       "      <th>34</th>\n",
       "      <td>[{'id_str': '42481696', 'screen_name': 'Bradle...</td>\n",
       "      <td>[{'id_str': '2253968388', 'screen_name': 'RepB...</td>\n",
       "      <td>house</td>\n",
       "      <td>B001289</td>\n",
       "      <td>412601.0</td>\n",
       "      <td>NaN</td>\n",
       "      <td>NaN</td>\n",
       "      <td>NaN</td>\n",
       "      <td>NaN</td>\n",
       "      <td>Bradley Byrne</td>\n",
       "      <td>R</td>\n",
       "      <td>AL</td>\n",
       "      <td>member</td>\n",
       "      <td>RepByrne</td>\n",
       "      <td>BradleyByrne</td>\n",
       "    </tr>\n",
       "    <tr>\n",
       "      <th>35</th>\n",
       "      <td>[{'id_str': '2296943622', 'screen_name': 'Palm...</td>\n",
       "      <td>[{'id_str': '2861616083', 'screen_name': 'USRe...</td>\n",
       "      <td>house</td>\n",
       "      <td>P000609</td>\n",
       "      <td>412608.0</td>\n",
       "      <td>NaN</td>\n",
       "      <td>NaN</td>\n",
       "      <td>NaN</td>\n",
       "      <td>NaN</td>\n",
       "      <td>Gary Palmer</td>\n",
       "      <td>R</td>\n",
       "      <td>AL</td>\n",
       "      <td>member</td>\n",
       "      <td>USRepGaryPalmer</td>\n",
       "      <td>Palmer4Alabama</td>\n",
       "    </tr>\n",
       "    <tr>\n",
       "      <th>36</th>\n",
       "      <td>[{'id_str': '69086398', 'screen_name': 'TeamRo...</td>\n",
       "      <td>[{'id_str': '224294785', 'screen_name': 'RepMa...</td>\n",
       "      <td>house</td>\n",
       "      <td>R000591</td>\n",
       "      <td>412394.0</td>\n",
       "      <td>NaN</td>\n",
       "      <td>NaN</td>\n",
       "      <td>NaN</td>\n",
       "      <td>NaN</td>\n",
       "      <td>Martha Roby</td>\n",
       "      <td>R</td>\n",
       "      <td>AL</td>\n",
       "      <td>member</td>\n",
       "      <td>RepMarthaRoby</td>\n",
       "      <td>TeamRoby</td>\n",
       "    </tr>\n",
       "    <tr>\n",
       "      <th>37</th>\n",
       "      <td>[{'id_str': '76069325', 'screen_name': 'MikeRo...</td>\n",
       "      <td>[{'id_str': '33977070', 'screen_name': 'RepMik...</td>\n",
       "      <td>house</td>\n",
       "      <td>R000575</td>\n",
       "      <td>400341.0</td>\n",
       "      <td>NaN</td>\n",
       "      <td>NaN</td>\n",
       "      <td>NaN</td>\n",
       "      <td>NaN</td>\n",
       "      <td>Mike Rogers</td>\n",
       "      <td>R</td>\n",
       "      <td>AL</td>\n",
       "      <td>member</td>\n",
       "      <td>RepMikeRogersAL</td>\n",
       "      <td>MikeRogersCamp</td>\n",
       "    </tr>\n",
       "  </tbody>\n",
       "</table>\n",
       "</div>"
      ],
      "text/plain": [
       "                                    accounts.campaign  \\\n",
       "33  [{'id_str': '2559398984', 'screen_name': 'DonY...   \n",
       "34  [{'id_str': '42481696', 'screen_name': 'Bradle...   \n",
       "35  [{'id_str': '2296943622', 'screen_name': 'Palm...   \n",
       "36  [{'id_str': '69086398', 'screen_name': 'TeamRo...   \n",
       "37  [{'id_str': '76069325', 'screen_name': 'MikeRo...   \n",
       "\n",
       "                                      accounts.office chamber id.bioguide  \\\n",
       "33  [{'id_str': '37007274', 'screen_name': 'repdon...   house     Y000033   \n",
       "34  [{'id_str': '2253968388', 'screen_name': 'RepB...   house     B001289   \n",
       "35  [{'id_str': '2861616083', 'screen_name': 'USRe...   house     P000609   \n",
       "36  [{'id_str': '224294785', 'screen_name': 'RepMa...   house     R000591   \n",
       "37  [{'id_str': '33977070', 'screen_name': 'RepMik...   house     R000575   \n",
       "\n",
       "    id.govtrack id.house_committee_id id.senate_committee_id id.tag  \\\n",
       "33     400440.0                   NaN                    NaN    NaN   \n",
       "34     412601.0                   NaN                    NaN    NaN   \n",
       "35     412608.0                   NaN                    NaN    NaN   \n",
       "36     412394.0                   NaN                    NaN    NaN   \n",
       "37     400341.0                   NaN                    NaN    NaN   \n",
       "\n",
       "   id.thomas_id           name party state    type            name1  \\\n",
       "33          NaN      Don Young     R    AK  member      repdonyoung   \n",
       "34          NaN  Bradley Byrne     R    AL  member         RepByrne   \n",
       "35          NaN    Gary Palmer     R    AL  member  USRepGaryPalmer   \n",
       "36          NaN    Martha Roby     R    AL  member    RepMarthaRoby   \n",
       "37          NaN    Mike Rogers     R    AL  member  RepMikeRogersAL   \n",
       "\n",
       "             name2  \n",
       "33      DonYoungAK  \n",
       "34    BradleyByrne  \n",
       "35  Palmer4Alabama  \n",
       "36        TeamRoby  \n",
       "37  MikeRogersCamp  "
      ]
     },
     "execution_count": 309,
     "metadata": {},
     "output_type": "execute_result"
    }
   ],
   "source": [
    "# exploring the results\n",
    "m.head()"
   ]
  },
  {
   "cell_type": "code",
   "execution_count": 310,
   "metadata": {},
   "outputs": [],
   "source": [
    "meta = pd.melt(m, id_vars=['chamber', 'id.govtrack', 'name', 'party', 'state'], \n",
    "               value_vars=['name1', 'name2'])\n"
   ]
  },
  {
   "cell_type": "code",
   "execution_count": 311,
   "metadata": {},
   "outputs": [
    {
     "data": {
      "text/html": [
       "<div>\n",
       "<style>\n",
       "    .dataframe thead tr:only-child th {\n",
       "        text-align: right;\n",
       "    }\n",
       "\n",
       "    .dataframe thead th {\n",
       "        text-align: left;\n",
       "    }\n",
       "\n",
       "    .dataframe tbody tr th {\n",
       "        vertical-align: top;\n",
       "    }\n",
       "</style>\n",
       "<table border=\"1\" class=\"dataframe\">\n",
       "  <thead>\n",
       "    <tr style=\"text-align: right;\">\n",
       "      <th></th>\n",
       "      <th>chamber</th>\n",
       "      <th>id.govtrack</th>\n",
       "      <th>name</th>\n",
       "      <th>party</th>\n",
       "      <th>state</th>\n",
       "      <th>variable</th>\n",
       "      <th>mnames</th>\n",
       "    </tr>\n",
       "  </thead>\n",
       "  <tbody>\n",
       "    <tr>\n",
       "      <th>0</th>\n",
       "      <td>house</td>\n",
       "      <td>400440.0</td>\n",
       "      <td>Don Young</td>\n",
       "      <td>R</td>\n",
       "      <td>AK</td>\n",
       "      <td>name1</td>\n",
       "      <td>repdonyoung</td>\n",
       "    </tr>\n",
       "    <tr>\n",
       "      <th>1</th>\n",
       "      <td>house</td>\n",
       "      <td>412601.0</td>\n",
       "      <td>Bradley Byrne</td>\n",
       "      <td>R</td>\n",
       "      <td>AL</td>\n",
       "      <td>name1</td>\n",
       "      <td>RepByrne</td>\n",
       "    </tr>\n",
       "    <tr>\n",
       "      <th>2</th>\n",
       "      <td>house</td>\n",
       "      <td>412608.0</td>\n",
       "      <td>Gary Palmer</td>\n",
       "      <td>R</td>\n",
       "      <td>AL</td>\n",
       "      <td>name1</td>\n",
       "      <td>USRepGaryPalmer</td>\n",
       "    </tr>\n",
       "    <tr>\n",
       "      <th>3</th>\n",
       "      <td>house</td>\n",
       "      <td>412394.0</td>\n",
       "      <td>Martha Roby</td>\n",
       "      <td>R</td>\n",
       "      <td>AL</td>\n",
       "      <td>name1</td>\n",
       "      <td>RepMarthaRoby</td>\n",
       "    </tr>\n",
       "    <tr>\n",
       "      <th>4</th>\n",
       "      <td>house</td>\n",
       "      <td>400341.0</td>\n",
       "      <td>Mike Rogers</td>\n",
       "      <td>R</td>\n",
       "      <td>AL</td>\n",
       "      <td>name1</td>\n",
       "      <td>RepMikeRogersAL</td>\n",
       "    </tr>\n",
       "  </tbody>\n",
       "</table>\n",
       "</div>"
      ],
      "text/plain": [
       "  chamber  id.govtrack           name party state variable           mnames\n",
       "0   house     400440.0      Don Young     R    AK    name1      repdonyoung\n",
       "1   house     412601.0  Bradley Byrne     R    AL    name1         RepByrne\n",
       "2   house     412608.0    Gary Palmer     R    AL    name1  USRepGaryPalmer\n",
       "3   house     412394.0    Martha Roby     R    AL    name1    RepMarthaRoby\n",
       "4   house     400341.0    Mike Rogers     R    AL    name1  RepMikeRogersAL"
      ]
     },
     "execution_count": 311,
     "metadata": {},
     "output_type": "execute_result"
    }
   ],
   "source": [
    "meta.rename(columns={'value':'mnames'}, inplace=True)\n",
    "meta = meta[meta.mnames.notnull()]\n",
    "meta.head()"
   ]
  },
  {
   "cell_type": "code",
   "execution_count": 312,
   "metadata": {},
   "outputs": [
    {
     "data": {
      "text/html": [
       "<div>\n",
       "<style>\n",
       "    .dataframe thead tr:only-child th {\n",
       "        text-align: right;\n",
       "    }\n",
       "\n",
       "    .dataframe thead th {\n",
       "        text-align: left;\n",
       "    }\n",
       "\n",
       "    .dataframe tbody tr th {\n",
       "        vertical-align: top;\n",
       "    }\n",
       "</style>\n",
       "<table border=\"1\" class=\"dataframe\">\n",
       "  <thead>\n",
       "    <tr style=\"text-align: right;\">\n",
       "      <th></th>\n",
       "      <th>chamber</th>\n",
       "      <th>id.govtrack</th>\n",
       "      <th>name</th>\n",
       "      <th>party</th>\n",
       "      <th>state</th>\n",
       "      <th>variable</th>\n",
       "      <th>mnames</th>\n",
       "    </tr>\n",
       "  </thead>\n",
       "  <tbody>\n",
       "    <tr>\n",
       "      <th>761</th>\n",
       "      <td>house</td>\n",
       "      <td>412445.0</td>\n",
       "      <td>Billy Long</td>\n",
       "      <td>R</td>\n",
       "      <td>MO</td>\n",
       "      <td>name2</td>\n",
       "      <td>auctnr1</td>\n",
       "    </tr>\n",
       "  </tbody>\n",
       "</table>\n",
       "</div>"
      ],
      "text/plain": [
       "    chamber  id.govtrack        name party state variable   mnames\n",
       "761   house     412445.0  Billy Long     R    MO    name2  auctnr1"
      ]
     },
     "execution_count": 312,
     "metadata": {},
     "output_type": "execute_result"
    }
   ],
   "source": [
    "# explore some screen names\n",
    "meta.loc[meta.mnames == 'auctnr1',:]\n",
    "# meta.loc[meta.name.str.contains('Bill'),:]"
   ]
  },
  {
   "cell_type": "code",
   "execution_count": 313,
   "metadata": {},
   "outputs": [],
   "source": [
    "choices = meta.loc[:,'mnames'].tolist()"
   ]
  },
  {
   "cell_type": "code",
   "execution_count": 314,
   "metadata": {},
   "outputs": [],
   "source": [
    "queries = df.loc[:,'screen_name'].tolist()\n",
    "queries = list(set(queries)) # remove duplicates"
   ]
  },
  {
   "cell_type": "code",
   "execution_count": 315,
   "metadata": {},
   "outputs": [
    {
     "data": {
      "text/plain": [
       "900"
      ]
     },
     "execution_count": 315,
     "metadata": {},
     "output_type": "execute_result"
    }
   ],
   "source": [
    "#[re.search(r'auctnr1', q) for q in choices]\n",
    "len(queries)"
   ]
  },
  {
   "cell_type": "code",
   "execution_count": 316,
   "metadata": {},
   "outputs": [],
   "source": [
    "t = map(lambda q : process.extractOne(q, choices, score_cutoff=80), queries)\n",
    "t = list(t)"
   ]
  },
  {
   "cell_type": "code",
   "execution_count": 317,
   "metadata": {},
   "outputs": [
    {
     "data": {
      "text/html": [
       "<div>\n",
       "<style>\n",
       "    .dataframe thead tr:only-child th {\n",
       "        text-align: right;\n",
       "    }\n",
       "\n",
       "    .dataframe thead th {\n",
       "        text-align: left;\n",
       "    }\n",
       "\n",
       "    .dataframe tbody tr th {\n",
       "        vertical-align: top;\n",
       "    }\n",
       "</style>\n",
       "<table border=\"1\" class=\"dataframe\">\n",
       "  <thead>\n",
       "    <tr style=\"text-align: right;\">\n",
       "      <th></th>\n",
       "      <th>mnames</th>\n",
       "      <th>score_match</th>\n",
       "      <th>screen_name</th>\n",
       "    </tr>\n",
       "  </thead>\n",
       "  <tbody>\n",
       "    <tr>\n",
       "      <th>0</th>\n",
       "      <td>RepDwightEvans</td>\n",
       "      <td>100.0</td>\n",
       "      <td>RepDwightEvans</td>\n",
       "    </tr>\n",
       "    <tr>\n",
       "      <th>1</th>\n",
       "      <td>jahimes</td>\n",
       "      <td>100.0</td>\n",
       "      <td>jahimes</td>\n",
       "    </tr>\n",
       "    <tr>\n",
       "      <th>2</th>\n",
       "      <td>DesJarlaisTN04</td>\n",
       "      <td>100.0</td>\n",
       "      <td>DesJarlaisTN04</td>\n",
       "    </tr>\n",
       "    <tr>\n",
       "      <th>3</th>\n",
       "      <td>davidcicilline</td>\n",
       "      <td>100.0</td>\n",
       "      <td>davidcicilline</td>\n",
       "    </tr>\n",
       "    <tr>\n",
       "      <th>4</th>\n",
       "      <td>None</td>\n",
       "      <td>NaN</td>\n",
       "      <td>conversations</td>\n",
       "    </tr>\n",
       "  </tbody>\n",
       "</table>\n",
       "</div>"
      ],
      "text/plain": [
       "           mnames  score_match     screen_name\n",
       "0  RepDwightEvans        100.0  RepDwightEvans\n",
       "1         jahimes        100.0         jahimes\n",
       "2  DesJarlaisTN04        100.0  DesJarlaisTN04\n",
       "3  davidcicilline        100.0  davidcicilline\n",
       "4            None          NaN   conversations"
      ]
     },
     "execution_count": 317,
     "metadata": {},
     "output_type": "execute_result"
    }
   ],
   "source": [
    "# extract names\n",
    "names = [x[0] if x is not None else None for x in t]\n",
    "score = [x[1] if x is not None else None for x in t]\n",
    "# create dataframe\n",
    "name_match = pd.DataFrame({'screen_name': queries,'mnames': names, 'score_match' : score})\n",
    "name_match.head()"
   ]
  },
  {
   "cell_type": "code",
   "execution_count": 318,
   "metadata": {},
   "outputs": [
    {
     "data": {
      "text/plain": [
       "(813, 3)"
      ]
     },
     "execution_count": 318,
     "metadata": {},
     "output_type": "execute_result"
    }
   ],
   "source": [
    "name_match = name_match[name_match.score_match.notnull()]\n",
    "name_match.shape"
   ]
  },
  {
   "cell_type": "code",
   "execution_count": 319,
   "metadata": {},
   "outputs": [
    {
     "data": {
      "text/html": [
       "<div>\n",
       "<style>\n",
       "    .dataframe thead tr:only-child th {\n",
       "        text-align: right;\n",
       "    }\n",
       "\n",
       "    .dataframe thead th {\n",
       "        text-align: left;\n",
       "    }\n",
       "\n",
       "    .dataframe tbody tr th {\n",
       "        vertical-align: top;\n",
       "    }\n",
       "</style>\n",
       "<table border=\"1\" class=\"dataframe\">\n",
       "  <thead>\n",
       "    <tr style=\"text-align: right;\">\n",
       "      <th></th>\n",
       "      <th>mnames</th>\n",
       "      <th>score_match</th>\n",
       "      <th>screen_name</th>\n",
       "    </tr>\n",
       "  </thead>\n",
       "  <tbody>\n",
       "    <tr>\n",
       "      <th>37</th>\n",
       "      <td>DevinGNunes</td>\n",
       "      <td>95.0</td>\n",
       "      <td>DevinNunes</td>\n",
       "    </tr>\n",
       "    <tr>\n",
       "      <th>51</th>\n",
       "      <td>MaxineWaters</td>\n",
       "      <td>89.0</td>\n",
       "      <td>RepMaxineWaters</td>\n",
       "    </tr>\n",
       "    <tr>\n",
       "      <th>54</th>\n",
       "      <td>RepTomEmmer</td>\n",
       "      <td>84.0</td>\n",
       "      <td>tomemmer</td>\n",
       "    </tr>\n",
       "    <tr>\n",
       "      <th>113</th>\n",
       "      <td>Rep_DevinNunes</td>\n",
       "      <td>96.0</td>\n",
       "      <td>RepDevinNunes</td>\n",
       "    </tr>\n",
       "    <tr>\n",
       "      <th>119</th>\n",
       "      <td>SenatorTomUdall</td>\n",
       "      <td>90.0</td>\n",
       "      <td>tomudall</td>\n",
       "    </tr>\n",
       "    <tr>\n",
       "      <th>239</th>\n",
       "      <td>RepMikeBishop</td>\n",
       "      <td>80.0</td>\n",
       "      <td>MikeBishopMI</td>\n",
       "    </tr>\n",
       "    <tr>\n",
       "      <th>287</th>\n",
       "      <td>RepRyanCostello</td>\n",
       "      <td>90.0</td>\n",
       "      <td>PRyan</td>\n",
       "    </tr>\n",
       "    <tr>\n",
       "      <th>335</th>\n",
       "      <td>JohnKDelaneyJKD</td>\n",
       "      <td>89.0</td>\n",
       "      <td>JohnKDelaney</td>\n",
       "    </tr>\n",
       "    <tr>\n",
       "      <th>367</th>\n",
       "      <td>TeamTedCruz</td>\n",
       "      <td>90.0</td>\n",
       "      <td>tedcruz</td>\n",
       "    </tr>\n",
       "    <tr>\n",
       "      <th>695</th>\n",
       "      <td>RepJaredPolis</td>\n",
       "      <td>87.0</td>\n",
       "      <td>jaredpolis</td>\n",
       "    </tr>\n",
       "    <tr>\n",
       "      <th>763</th>\n",
       "      <td>DebSFischer</td>\n",
       "      <td>87.0</td>\n",
       "      <td>DebFischerNE</td>\n",
       "    </tr>\n",
       "    <tr>\n",
       "      <th>817</th>\n",
       "      <td>Rep_Tom_Garrett</td>\n",
       "      <td>93.0</td>\n",
       "      <td>RepTomGarrett</td>\n",
       "    </tr>\n",
       "    <tr>\n",
       "      <th>873</th>\n",
       "      <td>RepPaulTonko</td>\n",
       "      <td>86.0</td>\n",
       "      <td>PaulTonko</td>\n",
       "    </tr>\n",
       "  </tbody>\n",
       "</table>\n",
       "</div>"
      ],
      "text/plain": [
       "              mnames  score_match      screen_name\n",
       "37       DevinGNunes         95.0       DevinNunes\n",
       "51      MaxineWaters         89.0  RepMaxineWaters\n",
       "54       RepTomEmmer         84.0         tomemmer\n",
       "113   Rep_DevinNunes         96.0    RepDevinNunes\n",
       "119  SenatorTomUdall         90.0         tomudall\n",
       "239    RepMikeBishop         80.0     MikeBishopMI\n",
       "287  RepRyanCostello         90.0            PRyan\n",
       "335  JohnKDelaneyJKD         89.0     JohnKDelaney\n",
       "367      TeamTedCruz         90.0          tedcruz\n",
       "695    RepJaredPolis         87.0       jaredpolis\n",
       "763      DebSFischer         87.0     DebFischerNE\n",
       "817  Rep_Tom_Garrett         93.0    RepTomGarrett\n",
       "873     RepPaulTonko         86.0        PaulTonko"
      ]
     },
     "execution_count": 319,
     "metadata": {},
     "output_type": "execute_result"
    }
   ],
   "source": [
    "name_match[name_match.score_match < 100]"
   ]
  },
  {
   "cell_type": "code",
   "execution_count": 320,
   "metadata": {},
   "outputs": [],
   "source": [
    "t = pd.merge(meta, name_match, on='mnames', how='left')\n",
    "dat = pd.merge(df, t, on='screen_name', how='left')"
   ]
  },
  {
   "cell_type": "code",
   "execution_count": 321,
   "metadata": {},
   "outputs": [
    {
     "data": {
      "text/plain": [
       "527"
      ]
     },
     "execution_count": 321,
     "metadata": {},
     "output_type": "execute_result"
    }
   ],
   "source": [
    "dat = dat.loc[dat.mnames.notnull(),:]\n",
    "len(dat.name.unique())"
   ]
  },
  {
   "cell_type": "code",
   "execution_count": 327,
   "metadata": {},
   "outputs": [
    {
     "data": {
      "text/html": [
       "<div>\n",
       "<style>\n",
       "    .dataframe thead tr:only-child th {\n",
       "        text-align: right;\n",
       "    }\n",
       "\n",
       "    .dataframe thead th {\n",
       "        text-align: left;\n",
       "    }\n",
       "\n",
       "    .dataframe tbody tr th {\n",
       "        vertical-align: top;\n",
       "    }\n",
       "</style>\n",
       "<table border=\"1\" class=\"dataframe\">\n",
       "  <thead>\n",
       "    <tr style=\"text-align: right;\">\n",
       "      <th></th>\n",
       "      <th>name</th>\n",
       "      <th>party</th>\n",
       "      <th>mnames</th>\n",
       "      <th>score_match</th>\n",
       "    </tr>\n",
       "    <tr>\n",
       "      <th>date</th>\n",
       "      <th></th>\n",
       "      <th></th>\n",
       "      <th></th>\n",
       "      <th></th>\n",
       "    </tr>\n",
       "  </thead>\n",
       "  <tbody>\n",
       "    <tr>\n",
       "      <th>2017-06-21 04:33:01</th>\n",
       "      <td>Kamala Harris</td>\n",
       "      <td>D</td>\n",
       "      <td>KamalaHarris</td>\n",
       "      <td>100.0</td>\n",
       "    </tr>\n",
       "    <tr>\n",
       "      <th>2017-06-21 04:02:47</th>\n",
       "      <td>Ted Lieu</td>\n",
       "      <td>D</td>\n",
       "      <td>tedlieu</td>\n",
       "      <td>100.0</td>\n",
       "    </tr>\n",
       "    <tr>\n",
       "      <th>2017-06-21 06:00:22</th>\n",
       "      <td>Jerrold Nadler</td>\n",
       "      <td>D</td>\n",
       "      <td>JerryNadler</td>\n",
       "      <td>100.0</td>\n",
       "    </tr>\n",
       "    <tr>\n",
       "      <th>2017-06-21 05:39:55</th>\n",
       "      <td>Tulsi Gabbard</td>\n",
       "      <td>D</td>\n",
       "      <td>TulsiGabbard</td>\n",
       "      <td>100.0</td>\n",
       "    </tr>\n",
       "    <tr>\n",
       "      <th>2017-06-21 06:13:27</th>\n",
       "      <td>Jerrold Nadler</td>\n",
       "      <td>D</td>\n",
       "      <td>JerryNadler</td>\n",
       "      <td>100.0</td>\n",
       "    </tr>\n",
       "  </tbody>\n",
       "</table>\n",
       "</div>"
      ],
      "text/plain": [
       "                               name party        mnames  score_match\n",
       "date                                                                \n",
       "2017-06-21 04:33:01   Kamala Harris     D  KamalaHarris        100.0\n",
       "2017-06-21 04:02:47        Ted Lieu     D       tedlieu        100.0\n",
       "2017-06-21 06:00:22  Jerrold Nadler     D   JerryNadler        100.0\n",
       "2017-06-21 05:39:55   Tulsi Gabbard     D  TulsiGabbard        100.0\n",
       "2017-06-21 06:13:27  Jerrold Nadler     D   JerryNadler        100.0"
      ]
     },
     "execution_count": 327,
     "metadata": {},
     "output_type": "execute_result"
    }
   ],
   "source": [
    "dat['date'] = pd.to_datetime(dat.time)\n",
    "dat.set_index('date', inplace=True)\n",
    "dat.loc[:, ['name', 'party', 'mnames', 'score_match']].head()"
   ]
  },
  {
   "cell_type": "code",
   "execution_count": 328,
   "metadata": {},
   "outputs": [
    {
     "data": {
      "text/plain": [
       "auctnr1      3343\n",
       "USRepLong      48\n",
       "Name: mnames, dtype: int64"
      ]
     },
     "execution_count": 328,
     "metadata": {},
     "output_type": "execute_result"
    }
   ],
   "source": [
    "dat.loc[dat.name.str.contains('Long'), 'mnames'].value_counts() # most of cases come from auctnrl"
   ]
  },
  {
   "cell_type": "code",
   "execution_count": 329,
   "metadata": {},
   "outputs": [
    {
     "data": {
      "text/plain": [
       "name\n",
       "Billy Long         3391\n",
       "Don Beyer          1887\n",
       "Pramila Jayapal    1764\n",
       "Ro Khanna          1404\n",
       "Name: id, dtype: int64"
      ]
     },
     "execution_count": 329,
     "metadata": {},
     "output_type": "execute_result"
    }
   ],
   "source": [
    "nt = dat.groupby('name').count().id\n",
    "nt[nt > 1000]"
   ]
  },
  {
   "cell_type": "code",
   "execution_count": null,
   "metadata": {},
   "outputs": [],
   "source": [
    "dat.text.resample('D').count().plot();"
   ]
  },
  {
   "cell_type": "code",
   "execution_count": null,
   "metadata": {},
   "outputs": [],
   "source": [
    "# plot distribution number of tweets per member\n",
    "nt.hist(bins=100);"
   ]
  },
  {
   "cell_type": "code",
   "execution_count": 330,
   "metadata": {},
   "outputs": [
    {
     "data": {
      "text/plain": [
       "D    62225\n",
       "R    41851\n",
       "I      432\n",
       "Name: party, dtype: int64"
      ]
     },
     "execution_count": 330,
     "metadata": {},
     "output_type": "execute_result"
    }
   ],
   "source": [
    "# descriptives members' tweets\n",
    "dat.party.value_counts()"
   ]
  },
  {
   "cell_type": "code",
   "execution_count": 331,
   "metadata": {},
   "outputs": [
    {
     "data": {
      "text/plain": [
       "house     76458\n",
       "senate    28050\n",
       "Name: chamber, dtype: int64"
      ]
     },
     "execution_count": 331,
     "metadata": {},
     "output_type": "execute_result"
    }
   ],
   "source": [
    "dat.chamber.value_counts()"
   ]
  }
 ],
 "metadata": {
  "kernelspec": {
   "display_name": "Python 3",
   "language": "python",
   "name": "python3"
  },
  "language_info": {
   "codemirror_mode": {
    "name": "ipython",
    "version": 3
   },
   "file_extension": ".py",
   "mimetype": "text/x-python",
   "name": "python",
   "nbconvert_exporter": "python",
   "pygments_lexer": "ipython3",
   "version": "3.5.0"
  }
 },
 "nbformat": 4,
 "nbformat_minor": 2
}
